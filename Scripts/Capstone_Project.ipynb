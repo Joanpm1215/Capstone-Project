{
 "cells": [
  {
   "cell_type": "markdown",
   "metadata": {},
   "source": [
    "# Applied Data Science Capstone Project\n",
    "\n",
    "This notebook will we used mainly for Capstone project"
   ]
  },
  {
   "cell_type": "code",
   "execution_count": 2,
   "metadata": {},
   "outputs": [
    {
     "data": {
      "text/plain": [
       "'/resources/labs/ADSC101EN/Capstone-Project/Scripts'"
      ]
     },
     "execution_count": 2,
     "metadata": {},
     "output_type": "execute_result"
    }
   ],
   "source": [
    "import pandas as pd\n",
    "import numpy as np\n",
    "import os\n",
    "os.getcwd()"
   ]
  },
  {
   "cell_type": "code",
   "execution_count": 70,
   "metadata": {},
   "outputs": [
    {
     "data": {
      "text/plain": [
       "Index(['SEVERITYCODE', 'X', 'Y', 'OBJECTID', 'INCKEY', 'COLDETKEY', 'REPORTNO',\n",
       "       'STATUS', 'ADDRTYPE', 'INTKEY', 'LOCATION', 'EXCEPTRSNCODE',\n",
       "       'EXCEPTRSNDESC', 'SEVERITYCODE.1', 'SEVERITYDESC', 'COLLISIONTYPE',\n",
       "       'PERSONCOUNT', 'PEDCOUNT', 'PEDCYLCOUNT', 'VEHCOUNT', 'INCDATE',\n",
       "       'INCDTTM', 'JUNCTIONTYPE', 'SDOT_COLCODE', 'SDOT_COLDESC',\n",
       "       'INATTENTIONIND', 'UNDERINFL', 'WEATHER', 'ROADCOND', 'LIGHTCOND',\n",
       "       'PEDROWNOTGRNT', 'SDOTCOLNUM', 'SPEEDING', 'ST_COLCODE', 'ST_COLDESC',\n",
       "       'SEGLANEKEY', 'CROSSWALKKEY', 'HITPARKEDCAR'],\n",
       "      dtype='object')"
      ]
     },
     "execution_count": 70,
     "metadata": {},
     "output_type": "execute_result"
    }
   ],
   "source": [
    "df_traffic = pd.read_csv(\"Data-Collisions.csv\")\n",
    "df_traffic100 = df_traffic.head(100)\n",
    "coldf = len(df_traffic100.columns)\n",
    "pd.set_option(\"display.max_columns\", coldf)\n",
    "df_traffic.columns"
   ]
  },
  {
   "cell_type": "code",
   "execution_count": 112,
   "metadata": {},
   "outputs": [
    {
     "data": {
      "text/html": [
       "<div>\n",
       "<style scoped>\n",
       "    .dataframe tbody tr th:only-of-type {\n",
       "        vertical-align: middle;\n",
       "    }\n",
       "\n",
       "    .dataframe tbody tr th {\n",
       "        vertical-align: top;\n",
       "    }\n",
       "\n",
       "    .dataframe thead th {\n",
       "        text-align: right;\n",
       "    }\n",
       "</style>\n",
       "<table border=\"1\" class=\"dataframe\">\n",
       "  <thead>\n",
       "    <tr style=\"text-align: right;\">\n",
       "      <th></th>\n",
       "      <th>0.0</th>\n",
       "      <th>1.0</th>\n",
       "      <th>2.0</th>\n",
       "      <th>2.5</th>\n",
       "      <th>3.0</th>\n",
       "    </tr>\n",
       "  </thead>\n",
       "  <tbody>\n",
       "    <tr>\n",
       "      <th>Severity</th>\n",
       "      <td>Unknown</td>\n",
       "      <td>Prop damage</td>\n",
       "      <td>Injury</td>\n",
       "      <td>Serious injury</td>\n",
       "      <td>Fatality</td>\n",
       "    </tr>\n",
       "  </tbody>\n",
       "</table>\n",
       "</div>"
      ],
      "text/plain": [
       "              0.0          1.0     2.0             2.5       3.0\n",
       "Severity  Unknown  Prop damage  Injury  Serious injury  Fatality"
      ]
     },
     "execution_count": 112,
     "metadata": {},
     "output_type": "execute_result"
    }
   ],
   "source": [
    "Severity_Code ={\n",
    "    0 : \"Unknown\",\n",
    "    1 : \"Prop damage\",\n",
    "    2 : \"Injury\",\n",
    "    2.5 : \"Serious injury\",\n",
    "    3 : \"Fatality\"\n",
    "}\n",
    "Severity = pd.DataFrame(Severity_Code, index=[\"Severity\"])\n",
    "Severity"
   ]
  },
  {
   "cell_type": "code",
   "execution_count": 117,
   "metadata": {},
   "outputs": [
    {
     "data": {
      "text/plain": [
       "1    0.698369\n",
       "2    0.301631\n",
       "Name: SEVERITYCODE, dtype: float64"
      ]
     },
     "execution_count": 117,
     "metadata": {},
     "output_type": "execute_result"
    }
   ],
   "source": [
    "df_traffic[\"SEVERITYCODE\"].value_counts(normalize=True)"
   ]
  },
  {
   "cell_type": "code",
   "execution_count": null,
   "metadata": {},
   "outputs": [],
   "source": [
    "%"
   ]
  },
  {
   "cell_type": "code",
   "execution_count": 52,
   "metadata": {},
   "outputs": [
    {
     "name": "stdout",
     "output_type": "stream",
     "text": [
      "<class 'pandas.core.frame.DataFrame'>\n",
      "RangeIndex: 100 entries, 0 to 99\n",
      "Data columns (total 38 columns):\n",
      " #   Column          Non-Null Count  Dtype  \n",
      "---  ------          --------------  -----  \n",
      " 0   SEVERITYCODE    100 non-null    int64  \n",
      " 1   X               96 non-null     float64\n",
      " 2   Y               96 non-null     float64\n",
      " 3   OBJECTID        100 non-null    int64  \n",
      " 4   INCKEY          100 non-null    int64  \n",
      " 5   COLDETKEY       100 non-null    int64  \n",
      " 6   REPORTNO        100 non-null    object \n",
      " 7   STATUS          100 non-null    object \n",
      " 8   ADDRTYPE        99 non-null     object \n",
      " 9   INTKEY          36 non-null     float64\n",
      " 10  LOCATION        98 non-null     object \n",
      " 11  EXCEPTRSNCODE   46 non-null     object \n",
      " 12  EXCEPTRSNDESC   1 non-null      object \n",
      " 13  SEVERITYCODE.1  100 non-null    int64  \n",
      " 14  SEVERITYDESC    100 non-null    object \n",
      " 15  COLLISIONTYPE   95 non-null     object \n",
      " 16  PERSONCOUNT     100 non-null    int64  \n",
      " 17  PEDCOUNT        100 non-null    int64  \n",
      " 18  PEDCYLCOUNT     100 non-null    int64  \n",
      " 19  VEHCOUNT        100 non-null    int64  \n",
      " 20  INCDATE         100 non-null    object \n",
      " 21  INCDTTM         100 non-null    object \n",
      " 22  JUNCTIONTYPE    100 non-null    object \n",
      " 23  SDOT_COLCODE    100 non-null    int64  \n",
      " 24  SDOT_COLDESC    100 non-null    object \n",
      " 25  INATTENTIONIND  9 non-null      object \n",
      " 26  UNDERINFL       95 non-null     object \n",
      " 27  WEATHER         95 non-null     object \n",
      " 28  ROADCOND        95 non-null     object \n",
      " 29  LIGHTCOND       95 non-null     object \n",
      " 30  PEDROWNOTGRNT   3 non-null      object \n",
      " 31  SDOTCOLNUM      57 non-null     float64\n",
      " 32  SPEEDING        3 non-null      object \n",
      " 33  ST_COLCODE      100 non-null    object \n",
      " 34  ST_COLDESC      95 non-null     object \n",
      " 35  SEGLANEKEY      100 non-null    int64  \n",
      " 36  CROSSWALKKEY    100 non-null    int64  \n",
      " 37  HITPARKEDCAR    100 non-null    object \n",
      "dtypes: float64(4), int64(12), object(22)\n",
      "memory usage: 29.8+ KB\n"
     ]
    }
   ],
   "source": [
    "df_traffic.info()"
   ]
  },
  {
   "cell_type": "code",
   "execution_count": 71,
   "metadata": {},
   "outputs": [
    {
     "data": {
      "text/plain": [
       "array(['10', '11', '32', '23', '5', '22', '14', '30', ' ', '28', '51',\n",
       "       '13', '50', '12', '45', '0', '20', '21', '1', '52', '16', '15',\n",
       "       '74', '81', '26', '19', '2', '66', '71', '3', '24', '40', '57',\n",
       "       '6', '83', '25', '27', '4', '72', '29', '56', '73', '41', '17',\n",
       "       '65', '82', '67', '49', '84', '31', '43', '42', '48', '64', '53',\n",
       "       32, 50, 15, 10, 14, 20, 13, 22, 51, 11, 28, 12, 52, 21, 0, 19, 30,\n",
       "       16, 40, 26, 27, 83, 2, 45, 65, 23, 24, 71, 1, 29, 81, 25, 4, 73,\n",
       "       74, 72, 3, 84, 64, 57, 42, 41, 48, 66, 56, 31, 82, 67, '54', '60',\n",
       "       53, 43, 87, 54, '87', nan, '7', '8', '85', '88', '18'],\n",
       "      dtype=object)"
      ]
     },
     "execution_count": 71,
     "metadata": {},
     "output_type": "execute_result"
    }
   ],
   "source": [
    "df_traffic[\"ST_COLCODE\"].unique()"
   ]
  },
  {
   "cell_type": "code",
   "execution_count": 72,
   "metadata": {},
   "outputs": [
    {
     "data": {
      "text/plain": [
       "array([10., 11., 32., 23.,  5., 22., 14., 30., 28., 51., 13., 50., 12.,\n",
       "       45.,  0., 20., 21.,  1., 52., 16., 15., 74., 81., 26., 19.,  2.,\n",
       "       66., 71.,  3., 24., 40., 57.,  6., 83., 25., 27.,  4., 72., 29.,\n",
       "       56., 73., 41., 17., 65., 82., 67., 49., 84., 31., 43., 42., 48.,\n",
       "       64., 53., 54., 60., 87., nan,  7.,  8., 85., 88., 18.])"
      ]
     },
     "execution_count": 72,
     "metadata": {},
     "output_type": "execute_result"
    }
   ],
   "source": [
    "df_traffic[\"ST_COLCODE\"].replace(\" \", None, inplace = True)\n",
    "df_traffic[\"ST_COLCODE\"] = df_traffic[\"ST_COLCODE\"].astype(float)\n",
    "df_traffic[\"ST_COLCODE\"].unique()"
   ]
  },
  {
   "cell_type": "code",
   "execution_count": 88,
   "metadata": {},
   "outputs": [
    {
     "data": {
      "text/plain": [
       "5334"
      ]
     },
     "execution_count": 88,
     "metadata": {},
     "output_type": "execute_result"
    }
   ],
   "source": [
    "df_traffic[\"X\"].isnull().sum()"
   ]
  },
  {
   "cell_type": "code",
   "execution_count": 89,
   "metadata": {},
   "outputs": [
    {
     "data": {
      "text/plain": [
       "5334"
      ]
     },
     "execution_count": 89,
     "metadata": {},
     "output_type": "execute_result"
    }
   ],
   "source": [
    "df_traffic[\"Y\"].isnull().sum()"
   ]
  },
  {
   "cell_type": "code",
   "execution_count": 90,
   "metadata": {},
   "outputs": [
    {
     "data": {
      "text/plain": [
       "array([-122.3231484, -122.3472943, -122.33454  , ..., -122.3927543,\n",
       "       -122.3042172, -122.3616722])"
      ]
     },
     "execution_count": 90,
     "metadata": {},
     "output_type": "execute_result"
    }
   ],
   "source": []
  },
  {
   "cell_type": "code",
   "execution_count": 92,
   "metadata": {},
   "outputs": [],
   "source": [
    "# Delete the rows which have NaN values on X, Y and ST_COLCODE\n",
    "df_traffic.dropna(subset=[\"ST_COLCODE\"], axis=0, inplace=True)\n",
    "df_traffic.dropna(subset=[\"X\"], axis=0, inplace=True)\n",
    "df_traffic.dropna(subset=[\"Y\"], axis=0, inplace=True)\n",
    "# Reset the index after deleting rows.\n",
    "df_traffic.reset_index(drop=True, inplace=True)\n"
   ]
  },
  {
   "cell_type": "code",
   "execution_count": 94,
   "metadata": {},
   "outputs": [
    {
     "data": {
      "text/plain": [
       "(189321, 38)"
      ]
     },
     "execution_count": 94,
     "metadata": {},
     "output_type": "execute_result"
    }
   ],
   "source": [
    "df_traffic.shape\n"
   ]
  },
  {
   "cell_type": "code",
   "execution_count": null,
   "metadata": {},
   "outputs": [],
   "source": []
  }
 ],
 "metadata": {
  "kernelspec": {
   "display_name": "Python",
   "language": "python",
   "name": "conda-env-python-py"
  },
  "language_info": {
   "codemirror_mode": {
    "name": "ipython",
    "version": 3
   },
   "file_extension": ".py",
   "mimetype": "text/x-python",
   "name": "python",
   "nbconvert_exporter": "python",
   "pygments_lexer": "ipython3",
   "version": "3.6.11"
  }
 },
 "nbformat": 4,
 "nbformat_minor": 4
}
